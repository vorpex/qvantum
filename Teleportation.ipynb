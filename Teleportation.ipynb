{
 "cells": [
  {
   "cell_type": "code",
   "execution_count": 1,
   "metadata": {},
   "outputs": [],
   "source": [
    "import sys\n",
    "sys.path.append('c:\\\\ProgramData\\\\Anaconda3\\\\Lib\\\\site-packages\\\\')"
   ]
  },
  {
   "cell_type": "code",
   "execution_count": 2,
   "metadata": {},
   "outputs": [],
   "source": [
    "import qvantum"
   ]
  },
  {
   "cell_type": "code",
   "execution_count": 3,
   "metadata": {},
   "outputs": [],
   "source": [
    "q = qvantum.Random_Qubit()\n",
    "q1 = qvantum.Qubit(1, 0)\n",
    "q2 = qvantum.Qubit(1, 0)\n",
    "\n",
    "r = qvantum.Register([q1, q2])\n",
    "\n",
    "l0 = qvantum.Layer([qvantum.Hadamard(), qvantum.Gate()])\n",
    "l1 = qvantum.Layer([qvantum.CNOT(0, 1)])\n",
    "\n",
    "c0 = qvantum.Circuit([l0, l1])\n",
    "c0.run(r)\n",
    "\n",
    "r.insert_qubit(q, 0)\n",
    "\n",
    "l2 = qvantum.Layer([qvantum.CNOT(0, 1), qvantum.Gate()])\n",
    "l3 = qvantum.Layer([qvantum.Hadamard(), qvantum.Gate(), qvantum.Gate()])\n",
    "\n",
    "c1 = qvantum.Circuit([l2, l3])\n",
    "c1.run(r)\n",
    "\n",
    "m0 = r.measure_nth_qubit(0)\n",
    "m1 = r.measure_nth_qubit(1)\n",
    "\n",
    "# print(r.show())\n",
    "\n",
    "XM2 = qvantum.PauliX()\n",
    "XM2.power(m1)\n",
    "ZM1 = qvantum.PauliZ()\n",
    "ZM1.power(m0)\n",
    "\n",
    "l4 = qvantum.Layer([qvantum.Gate(), qvantum.Gate(), XM2])\n",
    "l5 = qvantum.Layer([qvantum.Gate(), qvantum.Gate(), ZM1])\n",
    "\n",
    "c2 = qvantum.Circuit([l4, l5])\n",
    "c2.run(r)\n",
    "\n",
    "# t_coeff = [coeff for coeff in r.get_amplitudes() if coeff != 0]\n",
    "# Q = qvantum.Qubit(t_coeff[0], t_coeff[1])\n",
    "# print(Q.show())\n",
    "\n",
    "r.delete_qubit(0)\n",
    "r.delete_qubit(0)"
   ]
  },
  {
   "cell_type": "code",
   "execution_count": 4,
   "metadata": {},
   "outputs": [
    {
     "data": {
      "text/plain": [
       "'|Ψ> = (0.5826-0.4454i)|0> + (-0.6269-0.2631i)|1>'"
      ]
     },
     "execution_count": 4,
     "metadata": {},
     "output_type": "execute_result"
    }
   ],
   "source": [
    "q.show()"
   ]
  },
  {
   "cell_type": "code",
   "execution_count": 5,
   "metadata": {},
   "outputs": [
    {
     "data": {
      "text/plain": [
       "'|Ψ> = (0.5826-0.4454i)|0> + (-0.6269-0.2631i)|1>'"
      ]
     },
     "execution_count": 5,
     "metadata": {},
     "output_type": "execute_result"
    }
   ],
   "source": [
    "r.show()"
   ]
  },
  {
   "cell_type": "code",
   "execution_count": null,
   "metadata": {},
   "outputs": [],
   "source": []
  }
 ],
 "metadata": {
  "kernelspec": {
   "display_name": "Python 3",
   "language": "python",
   "name": "python3"
  },
  "language_info": {
   "codemirror_mode": {
    "name": "ipython",
    "version": 3
   },
   "file_extension": ".py",
   "mimetype": "text/x-python",
   "name": "python",
   "nbconvert_exporter": "python",
   "pygments_lexer": "ipython3",
   "version": "3.6.8"
  }
 },
 "nbformat": 4,
 "nbformat_minor": 2
}
